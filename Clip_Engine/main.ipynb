{
 "cells": [
  {
   "cell_type": "code",
   "execution_count": 8,
   "id": "08b1b6d6",
   "metadata": {},
   "outputs": [],
   "source": [
    "import torch\n",
    "import clip\n",
    "from PIL import Image\n",
    "import cv2\n",
    "import numpy as np\n",
    "import matplotlib.pyplot as plt\n",
    "from sklearn.cluster import KMeans\n",
    "from sklearn.metrics import silhouette_score\n"
   ]
  },
  {
   "cell_type": "code",
   "execution_count": 42,
   "id": "801f8492",
   "metadata": {},
   "outputs": [
    {
     "name": "stdout",
     "output_type": "stream",
     "text": [
      "Using device:  cuda\n",
      "Finished loading model\n"
     ]
    }
   ],
   "source": [
    "device = \"cuda\" if torch.cuda.is_available() else \"cpu\"\n",
    "print('Using device: ', device)\n",
    "model, preprocess = clip.load(\"ViT-B/32\", device=device)\n",
    "print('Finished loading model')"
   ]
  },
  {
   "cell_type": "code",
   "execution_count": 43,
   "id": "e6ae81bf",
   "metadata": {},
   "outputs": [],
   "source": [
    "# def compute_similarity(query, frame):\n",
    "#     # Convert opencv frame to PIL image (what CLIP uses)\n",
    "#     pil_image = Image.fromarray(cv2.cvtColor(frame, cv2.COLOR_BGR2RGB))\n",
    "#     image = preprocess(pil_image).unsqueeze(0).to(device)\n",
    "#     text = clip.tokenize([query]).to(device)\n",
    "\n",
    "#     with torch.no_grad():\n",
    "#         image_features = model.encode_image(image)\n",
    "#         text_features = model.encode_text(text)\n",
    "\n",
    "#         logits_per_image, logits_per_text = model(image, text)\n",
    "#         probs = logits_per_image.softmax(dim=-1).cpu().numpy()\n",
    "#         probs = np.around(probs, decimals=4)\n",
    "\n",
    "#         # Compute similarity using dot product\n",
    "#         dot = (100.0 * image_features @ text_features.T).cpu().squeeze()\n",
    "#         similarity = dot / np.linalg.norm(image_features.cpu(), axis=1) * np.linalg.norm(text_features.cpu())\n",
    "#         similarity = np.dot(image_features.cpu(), text_features.cpu().T) / (np.linalg.norm(image_features.cpu(), axis=1) * np.linalg.norm(text_features.cpu()))\n",
    "\n",
    "#     return similarity\n",
    "\n",
    "def compute_similarity(query, frame):\n",
    "    # Convert opencv frame to PIL image (what CLIP uses)\n",
    "    pil_image = Image.fromarray(cv2.cvtColor(frame, cv2.COLOR_BGR2RGB))\n",
    "    image = preprocess(pil_image).unsqueeze(0).to(device)\n",
    "    text = clip.tokenize([query]).to(device)\n",
    "\n",
    "    with torch.no_grad():\n",
    "        image_features = model.encode_image(image)\n",
    "        text_features = model.encode_text(text)\n",
    "\n",
    "        logits_per_image, logits_per_text = model(image, text)\n",
    "        probs = logits_per_image.softmax(dim=-1)\n",
    "\n",
    "        # Compute similarity using dot product\n",
    "        dot = (100.0 * image_features @ text_features.T).squeeze()\n",
    "        similarity = dot / (image_features.norm(dim=1) * text_features.norm(dim=1))\n",
    "\n",
    "    return similarity.cpu().numpy()\n",
    "\n"
   ]
  },
  {
   "cell_type": "code",
   "execution_count": 184,
   "id": "3e6f2d60",
   "metadata": {},
   "outputs": [],
   "source": [
    "def find_matched_frames(filename, query, similarity_threshold):\n",
    "    cap = cv2.VideoCapture(filename)\n",
    "    matched_frames = []\n",
    "\n",
    "    frame_index = 0\n",
    "    while True:\n",
    "        ret, frame = cap.read()\n",
    "        if not ret: # haven't reached the end yet\n",
    "            break\n",
    "\n",
    "        # Compute similarity\n",
    "#         print(f'On frame: {frame_index}')\n",
    "        similarity = compute_similarity(query, frame)\n",
    "\n",
    "        if similarity > similarity_threshold:\n",
    "            # print(f'Similarity {similarity} - match')\n",
    "            matched_frames.append((frame_index, similarity.item()))\n",
    "        else:\n",
    "            matched_frames.append((frame_index, similarity.item()))\n",
    "\n",
    "            # print(f'Similarity {similarity} - no match')\n",
    "            pass\n",
    "        frame_index += 1\n",
    "        print(f\"Frame number {frame_index}/105\", end=\"\\r\", flush=True)\n",
    "\n",
    "    print('num frames: ', frame_index + 1)\n",
    "    cap.release() # Release resources\n",
    "    return matched_frames\n"
   ]
  },
  {
   "cell_type": "code",
   "execution_count": 199,
   "id": "08d96971",
   "metadata": {},
   "outputs": [],
   "source": [
    "# Load video frames\n",
    "video = 'giraffe_and_hippo.mp4'\n",
    "query = 'a giraffe'\n",
    "\n",
    "# hippo: 15 to 87\n",
    "# giraffe\n"
   ]
  },
  {
   "cell_type": "code",
   "execution_count": 200,
   "id": "9f14f4f9",
   "metadata": {},
   "outputs": [
    {
     "name": "stdout",
     "output_type": "stream",
     "text": [
      "num frames:  105/105\n"
     ]
    }
   ],
   "source": [
    "# Get frames\n",
    "matched_frames = find_matched_frames(video, query, similarity_threshold=2200)\n",
    "x = [t[0] for t in matched_frames]\n",
    "y = [t[1] for t in matched_frames]\n"
   ]
  },
  {
   "cell_type": "code",
   "execution_count": 201,
   "id": "8fe971f9",
   "metadata": {},
   "outputs": [],
   "source": [
    "# Compute statistical measures\n",
    "mean = np.mean(y)\n",
    "range_ = np.ptp(y)\n",
    "std_dev = np.std(y)\n",
    "min_val = np.min(y)\n",
    "max_val = np.max(y)\n"
   ]
  },
  {
   "cell_type": "code",
   "execution_count": 202,
   "id": "62e01201",
   "metadata": {},
   "outputs": [
    {
     "name": "stdout",
     "output_type": "stream",
     "text": [
      "Mean: 22.464693509615383\n",
      "Range: 13.671875\n",
      "Standard deviation: 5.57737753354627\n",
      "Minimum value: 17.484375\n",
      "Maximum value: 31.15625\n"
     ]
    }
   ],
   "source": [
    "# Print the results\n",
    "print(f'Mean: {mean}')\n",
    "print(f'Range: {range_}')\n",
    "print(f'Standard deviation: {std_dev}')\n",
    "print(f'Minimum value: {min_val}')\n",
    "print(f'Maximum value: {max_val}')\n"
   ]
  },
  {
   "cell_type": "code",
   "execution_count": 203,
   "id": "29368493",
   "metadata": {},
   "outputs": [
    {
     "name": "stderr",
     "output_type": "stream",
     "text": [
      "C:\\Users\\david\\anaconda3\\envs\\gpu_env2\\lib\\site-packages\\sklearn\\cluster\\_kmeans.py:870: FutureWarning: The default value of `n_init` will change from 10 to 'auto' in 1.4. Set the value of `n_init` explicitly to suppress the warning\n",
      "  warnings.warn(\n",
      "C:\\Users\\david\\anaconda3\\envs\\gpu_env2\\lib\\site-packages\\sklearn\\cluster\\_kmeans.py:1382: UserWarning: KMeans is known to have a memory leak on Windows with MKL, when there are less chunks than available threads. You can avoid it by setting the environment variable OMP_NUM_THREADS=1.\n",
      "  warnings.warn(\n"
     ]
    },
    {
     "name": "stdout",
     "output_type": "stream",
     "text": [
      "Distance between centroids: [12.06582109]\n"
     ]
    }
   ],
   "source": [
    "# Sample data\n",
    "data = np.array(y).reshape(-1, 1)\n",
    "kmeans = KMeans(n_clusters=2)\n",
    "kmeans.fit(data)\n",
    "labels = kmeans.labels_\n",
    "centroids = kmeans.cluster_centers_\n",
    "print(f'Distance between centroids: {abs(centroids[0] - centroids[1])}')\n"
   ]
  },
  {
   "cell_type": "code",
   "execution_count": 204,
   "id": "31316287",
   "metadata": {},
   "outputs": [
    {
     "name": "stdout",
     "output_type": "stream",
     "text": [
      "Silhouette average: 0.9328710196441841\n"
     ]
    }
   ],
   "source": [
    "# Calculate silhouette score\n",
    "silhouette_avg = silhouette_score(data, kmeans.labels_)\n",
    "print(f'Silhouette average: {silhouette_avg}')\n",
    "\n",
    "# Print the result\n",
    "if silhouette_avg < 0.2:\n",
    "    print(\"Warning: low silhouette score indicates poor clustering\")\n"
   ]
  },
  {
   "cell_type": "code",
   "execution_count": 205,
   "id": "6aa7b4d7",
   "metadata": {},
   "outputs": [
    {
     "name": "stderr",
     "output_type": "stream",
     "text": [
      "C:\\Users\\david\\anaconda3\\envs\\gpu_env2\\lib\\site-packages\\sklearn\\cluster\\_kmeans.py:1382: UserWarning: KMeans is known to have a memory leak on Windows with MKL, when there are less chunks than available threads. You can avoid it by setting the environment variable OMP_NUM_THREADS=1.\n",
      "  warnings.warn(\n",
      "C:\\Users\\david\\anaconda3\\envs\\gpu_env2\\lib\\site-packages\\sklearn\\cluster\\_kmeans.py:1382: UserWarning: KMeans is known to have a memory leak on Windows with MKL, when there are less chunks than available threads. You can avoid it by setting the environment variable OMP_NUM_THREADS=1.\n",
      "  warnings.warn(\n",
      "C:\\Users\\david\\anaconda3\\envs\\gpu_env2\\lib\\site-packages\\sklearn\\cluster\\_kmeans.py:1382: UserWarning: KMeans is known to have a memory leak on Windows with MKL, when there are less chunks than available threads. You can avoid it by setting the environment variable OMP_NUM_THREADS=1.\n",
      "  warnings.warn(\n",
      "C:\\Users\\david\\anaconda3\\envs\\gpu_env2\\lib\\site-packages\\sklearn\\cluster\\_kmeans.py:1382: UserWarning: KMeans is known to have a memory leak on Windows with MKL, when there are less chunks than available threads. You can avoid it by setting the environment variable OMP_NUM_THREADS=1.\n",
      "  warnings.warn(\n",
      "C:\\Users\\david\\anaconda3\\envs\\gpu_env2\\lib\\site-packages\\sklearn\\cluster\\_kmeans.py:1382: UserWarning: KMeans is known to have a memory leak on Windows with MKL, when there are less chunks than available threads. You can avoid it by setting the environment variable OMP_NUM_THREADS=1.\n",
      "  warnings.warn(\n",
      "C:\\Users\\david\\anaconda3\\envs\\gpu_env2\\lib\\site-packages\\sklearn\\cluster\\_kmeans.py:1382: UserWarning: KMeans is known to have a memory leak on Windows with MKL, when there are less chunks than available threads. You can avoid it by setting the environment variable OMP_NUM_THREADS=1.\n",
      "  warnings.warn(\n",
      "C:\\Users\\david\\anaconda3\\envs\\gpu_env2\\lib\\site-packages\\sklearn\\cluster\\_kmeans.py:1382: UserWarning: KMeans is known to have a memory leak on Windows with MKL, when there are less chunks than available threads. You can avoid it by setting the environment variable OMP_NUM_THREADS=1.\n",
      "  warnings.warn(\n",
      "C:\\Users\\david\\anaconda3\\envs\\gpu_env2\\lib\\site-packages\\sklearn\\cluster\\_kmeans.py:1382: UserWarning: KMeans is known to have a memory leak on Windows with MKL, when there are less chunks than available threads. You can avoid it by setting the environment variable OMP_NUM_THREADS=1.\n",
      "  warnings.warn(\n",
      "C:\\Users\\david\\anaconda3\\envs\\gpu_env2\\lib\\site-packages\\sklearn\\cluster\\_kmeans.py:1382: UserWarning: KMeans is known to have a memory leak on Windows with MKL, when there are less chunks than available threads. You can avoid it by setting the environment variable OMP_NUM_THREADS=1.\n",
      "  warnings.warn(\n"
     ]
    },
    {
     "name": "stdout",
     "output_type": "stream",
     "text": [
      "[0.9328710196441841, 0.7531026149400013, 0.7481545110545039, 0.7392102513846104, 0.7050388790849608, 0.7053939524317829, 0.7078116197726954, 0.6973405580538793, 0.5823172415787615]\n",
      "The optimal number of clusters is 2\n"
     ]
    }
   ],
   "source": [
    "# Generate some sample data\n",
    "X = data\n",
    "\n",
    "# Define the range of cluster sizes to test\n",
    "min_clusters = 2\n",
    "max_clusters = 10\n",
    "cluster_range = range(min_clusters, max_clusters+1)\n",
    "\n",
    "# Compute the average silhouette score for each cluster size\n",
    "avg_scores = []\n",
    "for n_clusters in cluster_range:\n",
    "    # Fit the clustering algorithm to the data\n",
    "    kmeans = KMeans(n_clusters=n_clusters, random_state=42, n_init=10)\n",
    "    labels = kmeans.fit_predict(X)\n",
    "\n",
    "    # Compute the silhouette score for each point\n",
    "    silhouette_vals = silhouette_score(X, labels)\n",
    "\n",
    "    # Compute the average silhouette score for all points\n",
    "    avg_score = silhouette_vals.mean()\n",
    "    avg_scores.append(avg_score)\n",
    "\n",
    "# Find the optimal number of clusters based on the highest average silhouette score\n",
    "optimal_n_clusters = cluster_range[np.argmax(avg_scores)]\n",
    "print(avg_scores)\n",
    "print(f\"The optimal number of clusters is {optimal_n_clusters}\")\n"
   ]
  },
  {
   "cell_type": "code",
   "execution_count": 206,
   "id": "e0eb14aa",
   "metadata": {},
   "outputs": [
    {
     "name": "stdout",
     "output_type": "stream",
     "text": [
      "[0.5823172415787615, 0.5823172415787615, 0.5823172415787615, 0.5823172415787615, 0.5823172415787615, 0.5823172415787615, 0.5823172415787615, 0.5823172415787615, 0.5823172415787615, 0.5823172415787615, 0.5823172415787615, 0.5823172415787615, 0.5823172415787615, 0.5823172415787615, 0.5823172415787615, 0.5823172415787615, 0.5823172415787615, 0.5823172415787615, 0.5823172415787615, 0.5823172415787615, 0.5823172415787615, 0.5823172415787615, 0.5823172415787615, 0.5823172415787615, 0.5823172415787615, 0.5823172415787615, 0.5823172415787615, 0.5823172415787615, 0.5823172415787615, 0.5823172415787615, 0.5823172415787615, 0.5823172415787615, 0.5823172415787615, 0.5823172415787615, 0.5823172415787615, 0.5823172415787615, 0.5823172415787615, 0.5823172415787615, 0.5823172415787615, 0.5823172415787615, 0.5823172415787615, 0.5823172415787615, 0.5823172415787615, 0.5823172415787615, 0.5823172415787615, 0.5823172415787615, 0.5823172415787615, 0.5823172415787615, 0.5823172415787615, 0.5823172415787615]\n",
      "0.1\n",
      "DBSCAN optimal number of clusters: 10\n"
     ]
    }
   ],
   "source": [
    "from sklearn.cluster import DBSCAN\n",
    "\n",
    "def find_optimal_num_clusters(X):\n",
    "    scores = []\n",
    "    eps_values = np.linspace(0.1, 5, 50)\n",
    "    \n",
    "    # Compute silhouette score for different values of eps\n",
    "    for eps in eps_values:\n",
    "        dbscan = DBSCAN(eps=eps)\n",
    "        labels_ = dbscan.fit_predict(X)\n",
    "        \n",
    "        # If all points are assigned to one cluster, skip silhouette score calculation\n",
    "        if len(set(labels_)) == 1:\n",
    "            scores.append(-1)\n",
    "            continue\n",
    "            \n",
    "        score = silhouette_score(X, labels)\n",
    "        scores.append(score)\n",
    "    \n",
    "    # Determine optimal number of clusters based on the maximum silhouette score\n",
    "    print(scores)\n",
    "    max_score = max(scores)\n",
    "    if max_score == -1:\n",
    "        optimal_num_clusters = 1\n",
    "    else:\n",
    "        optimal_eps = eps_values[np.argmax(scores)]\n",
    "        print(optimal_eps)\n",
    "        dbscan = DBSCAN(eps=optimal_eps, min_samples=2)\n",
    "        labels_ = dbscan.fit_predict(X)\n",
    "        optimal_num_clusters = len(np.unique(labels_)) - (1 if -1 in labels_ else 0)\n",
    "    \n",
    "    return optimal_num_clusters\n",
    "\n",
    "print(f'DBSCAN optimal number of clusters: {find_optimal_num_clusters(data)}')\n"
   ]
  },
  {
   "cell_type": "code",
   "execution_count": 207,
   "id": "eb4e7cb2",
   "metadata": {},
   "outputs": [
    {
     "name": "stdout",
     "output_type": "stream",
     "text": [
      "Optimal eps: 0.30000000000000004\n",
      "DBSCAN2 optimal number of clusters: 2\n"
     ]
    }
   ],
   "source": [
    "def compute_optimal_num_clusters(X, min_samples):\n",
    "    eps_values = np.linspace(0.1, 5, 50)\n",
    "    silhouette_scores = []\n",
    "    for eps in eps_values:\n",
    "        dbscan = DBSCAN(eps=eps, min_samples=min_samples)\n",
    "        labels_ = dbscan.fit_predict(X)\n",
    "        if len(np.unique(labels_)) == 1:\n",
    "            silhouette_scores.append(-1)\n",
    "        else:\n",
    "            silhouette_scores.append(silhouette_score(X, labels_))\n",
    "    max_silhouette_score = max(silhouette_scores)\n",
    "    if max_silhouette_score == -1:\n",
    "        return 1\n",
    "    else:\n",
    "        optimal_eps = eps_values[silhouette_scores.index(max_silhouette_score)]\n",
    "        print(f'Optimal eps: {optimal_eps}')\n",
    "        optimal_eps = 0.4\n",
    "        dbscan = DBSCAN(eps=optimal_eps, min_samples=min_samples)\n",
    "        labels_ = dbscan.fit_predict(X)\n",
    "        num_clusters = len(np.unique(labels_)) - (1 if -1 in labels_ else 0)\n",
    "        return num_clusters\n",
    "print(f'DBSCAN2 optimal number of clusters: {compute_optimal_num_clusters(data,2)}')\n"
   ]
  },
  {
   "cell_type": "code",
   "execution_count": 208,
   "id": "2195d5d8",
   "metadata": {},
   "outputs": [
    {
     "name": "stderr",
     "output_type": "stream",
     "text": [
      "C:\\Users\\david\\anaconda3\\envs\\gpu_env2\\lib\\site-packages\\sklearn\\cluster\\_kmeans.py:1382: UserWarning: KMeans is known to have a memory leak on Windows with MKL, when there are less chunks than available threads. You can avoid it by setting the environment variable OMP_NUM_THREADS=1.\n",
      "  warnings.warn(\n",
      "C:\\Users\\david\\anaconda3\\envs\\gpu_env2\\lib\\site-packages\\sklearn\\cluster\\_kmeans.py:1382: UserWarning: KMeans is known to have a memory leak on Windows with MKL, when there are less chunks than available threads. You can avoid it by setting the environment variable OMP_NUM_THREADS=1.\n",
      "  warnings.warn(\n",
      "C:\\Users\\david\\anaconda3\\envs\\gpu_env2\\lib\\site-packages\\sklearn\\cluster\\_kmeans.py:1382: UserWarning: KMeans is known to have a memory leak on Windows with MKL, when there are less chunks than available threads. You can avoid it by setting the environment variable OMP_NUM_THREADS=1.\n",
      "  warnings.warn(\n",
      "C:\\Users\\david\\anaconda3\\envs\\gpu_env2\\lib\\site-packages\\sklearn\\cluster\\_kmeans.py:1382: UserWarning: KMeans is known to have a memory leak on Windows with MKL, when there are less chunks than available threads. You can avoid it by setting the environment variable OMP_NUM_THREADS=1.\n",
      "  warnings.warn(\n",
      "C:\\Users\\david\\anaconda3\\envs\\gpu_env2\\lib\\site-packages\\sklearn\\cluster\\_kmeans.py:1382: UserWarning: KMeans is known to have a memory leak on Windows with MKL, when there are less chunks than available threads. You can avoid it by setting the environment variable OMP_NUM_THREADS=1.\n",
      "  warnings.warn(\n",
      "C:\\Users\\david\\anaconda3\\envs\\gpu_env2\\lib\\site-packages\\sklearn\\cluster\\_kmeans.py:1382: UserWarning: KMeans is known to have a memory leak on Windows with MKL, when there are less chunks than available threads. You can avoid it by setting the environment variable OMP_NUM_THREADS=1.\n",
      "  warnings.warn(\n",
      "C:\\Users\\david\\anaconda3\\envs\\gpu_env2\\lib\\site-packages\\sklearn\\cluster\\_kmeans.py:1382: UserWarning: KMeans is known to have a memory leak on Windows with MKL, when there are less chunks than available threads. You can avoid it by setting the environment variable OMP_NUM_THREADS=1.\n",
      "  warnings.warn(\n",
      "C:\\Users\\david\\anaconda3\\envs\\gpu_env2\\lib\\site-packages\\sklearn\\cluster\\_kmeans.py:1382: UserWarning: KMeans is known to have a memory leak on Windows with MKL, when there are less chunks than available threads. You can avoid it by setting the environment variable OMP_NUM_THREADS=1.\n",
      "  warnings.warn(\n",
      "C:\\Users\\david\\anaconda3\\envs\\gpu_env2\\lib\\site-packages\\sklearn\\cluster\\_kmeans.py:1382: UserWarning: KMeans is known to have a memory leak on Windows with MKL, when there are less chunks than available threads. You can avoid it by setting the environment variable OMP_NUM_THREADS=1.\n",
      "  warnings.warn(\n",
      "C:\\Users\\david\\anaconda3\\envs\\gpu_env2\\lib\\site-packages\\sklearn\\cluster\\_kmeans.py:1382: UserWarning: KMeans is known to have a memory leak on Windows with MKL, when there are less chunks than available threads. You can avoid it by setting the environment variable OMP_NUM_THREADS=1.\n",
      "  warnings.warn(\n"
     ]
    }
   ],
   "source": [
    "# Run k-means with a range of cluster numbers\n",
    "wcss = []\n",
    "for i in range(1, 11):\n",
    "    kmeans = KMeans(n_clusters=i, init='k-means++', max_iter=300, n_init=10, random_state=0)\n",
    "    kmeans.fit(data)\n",
    "    wcss.append(kmeans.inertia_)\n"
   ]
  },
  {
   "cell_type": "code",
   "execution_count": 209,
   "id": "611027d8",
   "metadata": {},
   "outputs": [
    {
     "data": {
      "image/png": "[encoded data removed]",
      "text/plain": [
       "<Figure size 640x480 with 1 Axes>"
      ]
     },
     "metadata": {},
     "output_type": "display_data"
    }
   ],
   "source": [
    "# Plot the within-cluster sum of squares as a function of the number of clusters\n",
    "plt.plot(range(1, 11), wcss)\n",
    "plt.title('Elbow Method')\n",
    "plt.xlabel('Number of clusters')\n",
    "plt.ylabel('Within-cluster sum of squares')\n",
    "plt.show()\n"
   ]
  },
  {
   "cell_type": "code",
   "execution_count": 210,
   "id": "16579172",
   "metadata": {},
   "outputs": [
    {
     "data": {
      "image/png": "[encoded data removed]",
      "text/plain": [
       "<Figure size 640x480 with 1 Axes>"
      ]
     },
     "metadata": {},
     "output_type": "display_data"
    }
   ],
   "source": [
    "# Compute cluster that represents matches\n",
    "match_cluster = 0 if centroids[0] > centroids[1] else 1\n",
    "\n",
    "colors = ['g' if labels[i] == match_cluster else 'r' for i in range(len(y))]\n",
    "\n",
    "# Create the plot with the colored data points\n",
    "plt.scatter(range(len(y)), y, c=colors)\n",
    "\n",
    "# Set the x and y axis labels\n",
    "plt.xlabel('Video Frames')\n",
    "plt.ylabel('Match Confidence')\n",
    "plt.title(query)\n",
    "\n",
    "# Show the plot\n",
    "plt.show()\n"
   ]
  },
  {
   "cell_type": "code",
   "execution_count": 211,
   "id": "16fc3031",
   "metadata": {},
   "outputs": [],
   "source": [
    "dbscan = DBSCAN(eps=2, min_samples=2)\n",
    "labels = dbscan.fit_predict(X)"
   ]
  },
  {
   "cell_type": "code",
   "execution_count": 212,
   "id": "80843ff2",
   "metadata": {},
   "outputs": [
    {
     "data": {
      "image/png": "[encoded data removed]",
      "text/plain": [
       "<Figure size 640x480 with 1 Axes>"
      ]
     },
     "metadata": {},
     "output_type": "display_data"
    }
   ],
   "source": [
    "dbscan = DBSCAN(eps=2, min_samples=2)\n",
    "labels = dbscan.fit_predict(X)\n",
    "\n",
    "# Compute cluster that represents matches\n",
    "# match_cluster = 0 if centroids[0] > centroids[1] else 1\n",
    "unique_labels = list(set(labels))\n",
    "label_colors = {label: color for label, color in zip(unique_labels, plt.cm.coolwarm(np.linspace(0, 1, len(unique_labels))))}\n",
    "colors = [label_colors[label] for label in labels]\n",
    "\n",
    "# Create the plot with the colored data points\n",
    "plt.scatter(range(len(y)), y, c=colors)\n",
    "\n",
    "# Set the x and y axis labels\n",
    "plt.xlabel('Video Frames')\n",
    "plt.ylabel('Match Confidence')\n",
    "plt.title(query)\n",
    "\n",
    "# Show the plot\n",
    "plt.show()\n"
   ]
  },
  {
   "cell_type": "code",
   "execution_count": null,
   "id": "51065d8e",
   "metadata": {},
   "outputs": [],
   "source": []
  },
  {
   "cell_type": "code",
   "execution_count": null,
   "id": "eb00a5c5",
   "metadata": {},
   "outputs": [],
   "source": []
  },
  {
   "cell_type": "code",
   "execution_count": null,
   "id": "85a383af",
   "metadata": {},
   "outputs": [],
   "source": []
  },
  {
   "cell_type": "code",
   "execution_count": null,
   "id": "c217a06a",
   "metadata": {},
   "outputs": [],
   "source": []
  },
  {
   "cell_type": "code",
   "execution_count": null,
   "id": "58612b5d",
   "metadata": {},
   "outputs": [],
   "source": []
  },
  {
   "cell_type": "code",
   "execution_count": null,
   "id": "7852e219",
   "metadata": {},
   "outputs": [],
   "source": []
  }
 ],
 "metadata": {
  "kernelspec": {
   "display_name": "gpu_env2",
   "language": "python",
   "name": "gpu_env2"
  },
  "language_info": {
   "codemirror_mode": {
    "name": "ipython",
    "version": 3
   },
   "file_extension": ".py",
   "mimetype": "text/x-python",
   "name": "python",
   "nbconvert_exporter": "python",
   "pygments_lexer": "ipython3",
   "version": "3.10.10"
  }
 },
 "nbformat": 4,
 "nbformat_minor": 5
}
