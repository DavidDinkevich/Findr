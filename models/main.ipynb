{
 "cells": [
  {
   "cell_type": "code",
   "execution_count": 1,
   "id": "08b1b6d6",
   "metadata": {},
   "outputs": [],
   "source": [
    "import torch\n",
    "import clip\n",
    "from PIL import Image\n",
    "import cv2\n",
    "import numpy as np\n",
    "import matplotlib.pyplot as plt\n",
    "from sklearn.cluster import KMeans\n",
    "from sklearn.metrics import silhouette_score\n"
   ]
  },
  {
   "cell_type": "code",
   "execution_count": 2,
   "id": "801f8492",
   "metadata": {},
   "outputs": [
    {
     "name": "stdout",
     "output_type": "stream",
     "text": [
      "Using device:  cuda\n",
      "Finished loading model\n"
     ]
    }
   ],
   "source": [
    "device = \"cuda\" if torch.cuda.is_available() else \"cpu\"\n",
    "print('Using device: ', device)\n",
    "model, preprocess = clip.load(\"ViT-B/32\", device=device)\n",
    "print('Finished loading model')"
   ]
  },
  {
   "cell_type": "code",
   "execution_count": 3,
   "id": "e6ae81bf",
   "metadata": {},
   "outputs": [],
   "source": [
    "# def compute_similarity(query, frame):\n",
    "#     # Convert opencv frame to PIL image (what CLIP uses)\n",
    "#     pil_image = Image.fromarray(cv2.cvtColor(frame, cv2.COLOR_BGR2RGB))\n",
    "#     image = preprocess(pil_image).unsqueeze(0).to(device)\n",
    "#     text = clip.tokenize([query]).to(device)\n",
    "\n",
    "#     with torch.no_grad():\n",
    "#         image_features = model.encode_image(image)\n",
    "#         text_features = model.encode_text(text)\n",
    "\n",
    "#         logits_per_image, logits_per_text = model(image, text)\n",
    "#         probs = logits_per_image.softmax(dim=-1).cpu().numpy()\n",
    "#         probs = np.around(probs, decimals=4)\n",
    "\n",
    "#         # Compute similarity using dot product\n",
    "#         dot = (100.0 * image_features @ text_features.T).cpu().squeeze()\n",
    "#         similarity = dot / np.linalg.norm(image_features.cpu(), axis=1) * np.linalg.norm(text_features.cpu())\n",
    "#         similarity = np.dot(image_features.cpu(), text_features.cpu().T) / (np.linalg.norm(image_features.cpu(), axis=1) * np.linalg.norm(text_features.cpu()))\n",
    "\n",
    "#     return similarity\n",
    "\n",
    "def compute_similarity(query, frame):\n",
    "    # Convert opencv frame to PIL image (what CLIP uses)\n",
    "    pil_image = Image.fromarray(cv2.cvtColor(frame, cv2.COLOR_BGR2RGB))\n",
    "    image = preprocess(pil_image).unsqueeze(0).to(device)\n",
    "    text = clip.tokenize([query]).to(device)\n",
    "\n",
    "    with torch.no_grad():\n",
    "        image_features = model.encode_image(image)\n",
    "        text_features = model.encode_text(text)\n",
    "\n",
    "        logits_per_image, logits_per_text = model(image, text)\n",
    "        probs = logits_per_image.softmax(dim=-1)\n",
    "\n",
    "        # Compute similarity using dot product\n",
    "        dot = (100.0 * image_features @ text_features.T).squeeze()\n",
    "        similarity = dot / (image_features.norm(dim=1) * text_features.norm(dim=1))\n",
    "\n",
    "    return similarity.cpu().numpy()\n",
    "\n"
   ]
  },
  {
   "cell_type": "code",
   "execution_count": 4,
   "id": "3e6f2d60",
   "metadata": {},
   "outputs": [],
   "source": [
    "def find_matched_frames(filename, query, similarity_threshold):\n",
    "    cap = cv2.VideoCapture(filename)\n",
    "    matched_frames = []\n",
    "\n",
    "    frame_index = 0\n",
    "    while True:\n",
    "        ret, frame = cap.read()\n",
    "        if not ret: # haven't reached the end yet\n",
    "            break\n",
    "\n",
    "        # Compute similarity\n",
    "#         print(f'On frame: {frame_index}')\n",
    "        similarity = compute_similarity(query, frame)\n",
    "\n",
    "        if similarity > similarity_threshold:\n",
    "            # print(f'Similarity {similarity} - match')\n",
    "            matched_frames.append((frame_index, similarity.item()))\n",
    "        else:\n",
    "            matched_frames.append((frame_index, similarity.item()))\n",
    "\n",
    "            # print(f'Similarity {similarity} - no match')\n",
    "            pass\n",
    "        frame_index += 1\n",
    "        print(f\"Frame number {frame_index}/105\", end=\"\\r\", flush=True)\n",
    "\n",
    "    print('num frames: ', frame_index + 1)\n",
    "    cap.release() # Release resources\n",
    "    return matched_frames\n"
   ]
  },
  {
   "cell_type": "code",
   "execution_count": 5,
   "id": "08d96971",
   "metadata": {},
   "outputs": [],
   "source": [
    "# Load video frames\n",
    "video = 'compressed_video.mp4'\n",
    "query = 'a giraffe'\n",
    "\n",
    "# hippo: 15 to 87\n",
    "# giraffe\n"
   ]
  },
  {
   "cell_type": "code",
   "execution_count": 6,
   "id": "9f14f4f9",
   "metadata": {},
   "outputs": [
    {
     "name": "stdout",
     "output_type": "stream",
     "text": [
      "num frames:  4/105\n"
     ]
    }
   ],
   "source": [
    "# Get frames\n",
    "matched_frames = find_matched_frames(video, query, similarity_threshold=2200)\n",
    "x = [t[0] for t in matched_frames]\n",
    "y = [t[1] for t in matched_frames]\n"
   ]
  },
  {
   "cell_type": "code",
   "execution_count": 7,
   "id": "8fe971f9",
   "metadata": {},
   "outputs": [],
   "source": [
    "# Compute statistical measures\n",
    "mean = np.mean(y)\n",
    "range_ = np.ptp(y)\n",
    "std_dev = np.std(y)\n",
    "min_val = np.min(y)\n",
    "max_val = np.max(y)\n"
   ]
  },
  {
   "cell_type": "code",
   "execution_count": 8,
   "id": "62e01201",
   "metadata": {},
   "outputs": [
    {
     "name": "stdout",
     "output_type": "stream",
     "text": [
      "Mean: 28.135416666666668\n",
      "Range: 10.546875\n",
      "Standard deviation: 4.831273133119836\n",
      "Minimum value: 21.3125\n",
      "Maximum value: 31.859375\n"
     ]
    }
   ],
   "source": [
    "# Print the results\n",
    "print(f'Mean: {mean}')\n",
    "print(f'Range: {range_}')\n",
    "print(f'Standard deviation: {std_dev}')\n",
    "print(f'Minimum value: {min_val}')\n",
    "print(f'Maximum value: {max_val}')\n"
   ]
  },
  {
   "cell_type": "code",
   "execution_count": 9,
   "id": "29368493",
   "metadata": {},
   "outputs": [
    {
     "name": "stderr",
     "output_type": "stream",
     "text": [
      "C:\\Users\\david\\anaconda3\\envs\\gpu_env2\\lib\\site-packages\\sklearn\\cluster\\_kmeans.py:870: FutureWarning: The default value of `n_init` will change from 10 to 'auto' in 1.4. Set the value of `n_init` explicitly to suppress the warning\n",
      "  warnings.warn(\n",
      "C:\\Users\\david\\anaconda3\\envs\\gpu_env2\\lib\\site-packages\\sklearn\\cluster\\_kmeans.py:1382: UserWarning: KMeans is known to have a memory leak on Windows with MKL, when there are less chunks than available threads. You can avoid it by setting the environment variable OMP_NUM_THREADS=1.\n",
      "  warnings.warn(\n"
     ]
    },
    {
     "name": "stdout",
     "output_type": "stream",
     "text": [
      "Distance between centroids: [10.234375]\n"
     ]
    }
   ],
   "source": [
    "# Sample data\n",
    "data = np.array(y).reshape(-1, 1)\n",
    "kmeans = KMeans(n_clusters=2)\n",
    "kmeans.fit(data)\n",
    "labels = kmeans.labels_\n",
    "centroids = kmeans.cluster_centers_\n",
    "print(f'Distance between centroids: {abs(centroids[0] - centroids[1])}')\n"
   ]
  },
  {
   "cell_type": "code",
   "execution_count": 10,
   "id": "31316287",
   "metadata": {},
   "outputs": [
    {
     "name": "stdout",
     "output_type": "stream",
     "text": [
      "Silhouette average: 0.6259162049188296\n"
     ]
    }
   ],
   "source": [
    "# Calculate silhouette score\n",
    "silhouette_avg = silhouette_score(data, kmeans.labels_)\n",
    "print(f'Silhouette average: {silhouette_avg}')\n",
    "\n",
    "# Print the result\n",
    "if silhouette_avg < 0.2:\n",
    "    print(\"Warning: low silhouette score indicates poor clustering\")\n"
   ]
  },
  {
   "cell_type": "code",
   "execution_count": 11,
   "id": "6aa7b4d7",
   "metadata": {},
   "outputs": [
    {
     "name": "stderr",
     "output_type": "stream",
     "text": [
      "C:\\Users\\david\\anaconda3\\envs\\gpu_env2\\lib\\site-packages\\sklearn\\cluster\\_kmeans.py:1382: UserWarning: KMeans is known to have a memory leak on Windows with MKL, when there are less chunks than available threads. You can avoid it by setting the environment variable OMP_NUM_THREADS=1.\n",
      "  warnings.warn(\n",
      "C:\\Users\\david\\anaconda3\\envs\\gpu_env2\\lib\\site-packages\\sklearn\\cluster\\_kmeans.py:1382: UserWarning: KMeans is known to have a memory leak on Windows with MKL, when there are less chunks than available threads. You can avoid it by setting the environment variable OMP_NUM_THREADS=1.\n",
      "  warnings.warn(\n"
     ]
    },
    {
     "ename": "ValueError",
     "evalue": "Number of labels is 3. Valid values are 2 to n_samples - 1 (inclusive)",
     "output_type": "error",
     "traceback": [
      "\u001b[1;31m---------------------------------------------------------------------------\u001b[0m",
      "\u001b[1;31mValueError\u001b[0m                                Traceback (most recent call last)",
      "Cell \u001b[1;32mIn[11], line 17\u001b[0m\n\u001b[0;32m     14\u001b[0m labels \u001b[38;5;241m=\u001b[39m kmeans\u001b[38;5;241m.\u001b[39mfit_predict(X)\n\u001b[0;32m     16\u001b[0m \u001b[38;5;66;03m# Compute the silhouette score for each point\u001b[39;00m\n\u001b[1;32m---> 17\u001b[0m silhouette_vals \u001b[38;5;241m=\u001b[39m \u001b[43msilhouette_score\u001b[49m\u001b[43m(\u001b[49m\u001b[43mX\u001b[49m\u001b[43m,\u001b[49m\u001b[43m \u001b[49m\u001b[43mlabels\u001b[49m\u001b[43m)\u001b[49m\n\u001b[0;32m     19\u001b[0m \u001b[38;5;66;03m# Compute the average silhouette score for all points\u001b[39;00m\n\u001b[0;32m     20\u001b[0m avg_score \u001b[38;5;241m=\u001b[39m silhouette_vals\u001b[38;5;241m.\u001b[39mmean()\n",
      "File \u001b[1;32m~\\anaconda3\\envs\\gpu_env2\\lib\\site-packages\\sklearn\\metrics\\cluster\\_unsupervised.py:117\u001b[0m, in \u001b[0;36msilhouette_score\u001b[1;34m(X, labels, metric, sample_size, random_state, **kwds)\u001b[0m\n\u001b[0;32m    115\u001b[0m     \u001b[38;5;28;01melse\u001b[39;00m:\n\u001b[0;32m    116\u001b[0m         X, labels \u001b[38;5;241m=\u001b[39m X[indices], labels[indices]\n\u001b[1;32m--> 117\u001b[0m \u001b[38;5;28;01mreturn\u001b[39;00m np\u001b[38;5;241m.\u001b[39mmean(silhouette_samples(X, labels, metric\u001b[38;5;241m=\u001b[39mmetric, \u001b[38;5;241m*\u001b[39m\u001b[38;5;241m*\u001b[39mkwds))\n",
      "File \u001b[1;32m~\\anaconda3\\envs\\gpu_env2\\lib\\site-packages\\sklearn\\metrics\\cluster\\_unsupervised.py:231\u001b[0m, in \u001b[0;36msilhouette_samples\u001b[1;34m(X, labels, metric, **kwds)\u001b[0m\n\u001b[0;32m    229\u001b[0m n_samples \u001b[38;5;241m=\u001b[39m \u001b[38;5;28mlen\u001b[39m(labels)\n\u001b[0;32m    230\u001b[0m label_freqs \u001b[38;5;241m=\u001b[39m np\u001b[38;5;241m.\u001b[39mbincount(labels)\n\u001b[1;32m--> 231\u001b[0m \u001b[43mcheck_number_of_labels\u001b[49m\u001b[43m(\u001b[49m\u001b[38;5;28;43mlen\u001b[39;49m\u001b[43m(\u001b[49m\u001b[43mle\u001b[49m\u001b[38;5;241;43m.\u001b[39;49m\u001b[43mclasses_\u001b[49m\u001b[43m)\u001b[49m\u001b[43m,\u001b[49m\u001b[43m \u001b[49m\u001b[43mn_samples\u001b[49m\u001b[43m)\u001b[49m\n\u001b[0;32m    233\u001b[0m kwds[\u001b[38;5;124m\"\u001b[39m\u001b[38;5;124mmetric\u001b[39m\u001b[38;5;124m\"\u001b[39m] \u001b[38;5;241m=\u001b[39m metric\n\u001b[0;32m    234\u001b[0m reduce_func \u001b[38;5;241m=\u001b[39m functools\u001b[38;5;241m.\u001b[39mpartial(\n\u001b[0;32m    235\u001b[0m     _silhouette_reduce, labels\u001b[38;5;241m=\u001b[39mlabels, label_freqs\u001b[38;5;241m=\u001b[39mlabel_freqs\n\u001b[0;32m    236\u001b[0m )\n",
      "File \u001b[1;32m~\\anaconda3\\envs\\gpu_env2\\lib\\site-packages\\sklearn\\metrics\\cluster\\_unsupervised.py:33\u001b[0m, in \u001b[0;36mcheck_number_of_labels\u001b[1;34m(n_labels, n_samples)\u001b[0m\n\u001b[0;32m     22\u001b[0m \u001b[38;5;124;03m\"\"\"Check that number of labels are valid.\u001b[39;00m\n\u001b[0;32m     23\u001b[0m \n\u001b[0;32m     24\u001b[0m \u001b[38;5;124;03mParameters\u001b[39;00m\n\u001b[1;32m   (...)\u001b[0m\n\u001b[0;32m     30\u001b[0m \u001b[38;5;124;03m    Number of samples.\u001b[39;00m\n\u001b[0;32m     31\u001b[0m \u001b[38;5;124;03m\"\"\"\u001b[39;00m\n\u001b[0;32m     32\u001b[0m \u001b[38;5;28;01mif\u001b[39;00m \u001b[38;5;129;01mnot\u001b[39;00m \u001b[38;5;241m1\u001b[39m \u001b[38;5;241m<\u001b[39m n_labels \u001b[38;5;241m<\u001b[39m n_samples:\n\u001b[1;32m---> 33\u001b[0m     \u001b[38;5;28;01mraise\u001b[39;00m \u001b[38;5;167;01mValueError\u001b[39;00m(\n\u001b[0;32m     34\u001b[0m         \u001b[38;5;124m\"\u001b[39m\u001b[38;5;124mNumber of labels is \u001b[39m\u001b[38;5;132;01m%d\u001b[39;00m\u001b[38;5;124m. Valid values are 2 to n_samples - 1 (inclusive)\u001b[39m\u001b[38;5;124m\"\u001b[39m\n\u001b[0;32m     35\u001b[0m         \u001b[38;5;241m%\u001b[39m n_labels\n\u001b[0;32m     36\u001b[0m     )\n",
      "\u001b[1;31mValueError\u001b[0m: Number of labels is 3. Valid values are 2 to n_samples - 1 (inclusive)"
     ]
    }
   ],
   "source": [
    "# Generate some sample data\n",
    "X = data\n",
    "\n",
    "# Define the range of cluster sizes to test\n",
    "min_clusters = 2\n",
    "max_clusters = 10\n",
    "cluster_range = range(min_clusters, max_clusters+1)\n",
    "\n",
    "# Compute the average silhouette score for each cluster size\n",
    "avg_scores = []\n",
    "for n_clusters in cluster_range:\n",
    "    # Fit the clustering algorithm to the data\n",
    "    kmeans = KMeans(n_clusters=n_clusters, random_state=42, n_init=10)\n",
    "    labels = kmeans.fit_predict(X)\n",
    "\n",
    "    # Compute the silhouette score for each point\n",
    "    silhouette_vals = silhouette_score(X, labels)\n",
    "\n",
    "    # Compute the average silhouette score for all points\n",
    "    avg_score = silhouette_vals.mean()\n",
    "    avg_scores.append(avg_score)\n",
    "\n",
    "# Find the optimal number of clusters based on the highest average silhouette score\n",
    "optimal_n_clusters = cluster_range[np.argmax(avg_scores)]\n",
    "print(avg_scores)\n",
    "print(f\"The optimal number of clusters is {optimal_n_clusters}\")\n"
   ]
  },
  {
   "cell_type": "code",
   "execution_count": 13,
   "id": "e0eb14aa",
   "metadata": {},
   "outputs": [
    {
     "name": "stdout",
     "output_type": "stream",
     "text": [
      "[-1, -1, -1, -1, -1, -1, -1, -1, -1, -1, -1, -1, -1, -1, -1, -1, -1, -1, -1, -1, -1, -1, -1, -1, -1, -1, -1, -1, -1, -1, -1, -1, -1, -1, -1, -1, -1, -1, -1, -1, -1, -1, -1, -1, -1, -1, -1, -1, -1, -1]\n",
      "DBSCAN optimal number of clusters: 1\n"
     ]
    }
   ],
   "source": [
    "from sklearn.cluster import DBSCAN\n",
    "\n",
    "def find_optimal_num_clusters(X):\n",
    "    scores = []\n",
    "    eps_values = np.linspace(0.1, 5, 50)\n",
    "    \n",
    "    # Compute silhouette score for different values of eps\n",
    "    for eps in eps_values:\n",
    "        dbscan = DBSCAN(eps=eps)\n",
    "        labels_ = dbscan.fit_predict(X)\n",
    "        \n",
    "        # If all points are assigned to one cluster, skip silhouette score calculation\n",
    "        if len(set(labels_)) == 1:\n",
    "            scores.append(-1)\n",
    "            continue\n",
    "            \n",
    "        score = silhouette_score(X, labels)\n",
    "        scores.append(score)\n",
    "    \n",
    "    # Determine optimal number of clusters based on the maximum silhouette score\n",
    "    print(scores)\n",
    "    max_score = max(scores)\n",
    "    if max_score == -1:\n",
    "        optimal_num_clusters = 1\n",
    "    else:\n",
    "        optimal_eps = eps_values[np.argmax(scores)]\n",
    "        print(optimal_eps)\n",
    "        dbscan = DBSCAN(eps=optimal_eps, min_samples=2)\n",
    "        labels_ = dbscan.fit_predict(X)\n",
    "        optimal_num_clusters = len(np.unique(labels_)) - (1 if -1 in labels_ else 0)\n",
    "    \n",
    "    return optimal_num_clusters\n",
    "\n",
    "print(f'DBSCAN optimal number of clusters: {find_optimal_num_clusters(data)}')\n"
   ]
  },
  {
   "cell_type": "code",
   "execution_count": 14,
   "id": "eb4e7cb2",
   "metadata": {},
   "outputs": [
    {
     "name": "stdout",
     "output_type": "stream",
     "text": [
      "Optimal eps: 0.7000000000000001\n",
      "DBSCAN2 optimal number of clusters: 0\n"
     ]
    }
   ],
   "source": [
    "def compute_optimal_num_clusters(X, min_samples):\n",
    "    eps_values = np.linspace(0.1, 5, 50)\n",
    "    silhouette_scores = []\n",
    "    for eps in eps_values:\n",
    "        dbscan = DBSCAN(eps=eps, min_samples=min_samples)\n",
    "        labels_ = dbscan.fit_predict(X)\n",
    "        if len(np.unique(labels_)) == 1:\n",
    "            silhouette_scores.append(-1)\n",
    "        else:\n",
    "            silhouette_scores.append(silhouette_score(X, labels_))\n",
    "    max_silhouette_score = max(silhouette_scores)\n",
    "    if max_silhouette_score == -1:\n",
    "        return 1\n",
    "    else:\n",
    "        optimal_eps = eps_values[silhouette_scores.index(max_silhouette_score)]\n",
    "        print(f'Optimal eps: {optimal_eps}')\n",
    "        optimal_eps = 0.4\n",
    "        dbscan = DBSCAN(eps=optimal_eps, min_samples=min_samples)\n",
    "        labels_ = dbscan.fit_predict(X)\n",
    "        num_clusters = len(np.unique(labels_)) - (1 if -1 in labels_ else 0)\n",
    "        return num_clusters\n",
    "print(f'DBSCAN2 optimal number of clusters: {compute_optimal_num_clusters(data,2)}')\n"
   ]
  },
  {
   "cell_type": "code",
   "execution_count": 15,
   "id": "2195d5d8",
   "metadata": {},
   "outputs": [
    {
     "name": "stderr",
     "output_type": "stream",
     "text": [
      "C:\\Users\\david\\anaconda3\\envs\\gpu_env2\\lib\\site-packages\\sklearn\\cluster\\_kmeans.py:1382: UserWarning: KMeans is known to have a memory leak on Windows with MKL, when there are less chunks than available threads. You can avoid it by setting the environment variable OMP_NUM_THREADS=1.\n",
      "  warnings.warn(\n",
      "C:\\Users\\david\\anaconda3\\envs\\gpu_env2\\lib\\site-packages\\sklearn\\cluster\\_kmeans.py:1382: UserWarning: KMeans is known to have a memory leak on Windows with MKL, when there are less chunks than available threads. You can avoid it by setting the environment variable OMP_NUM_THREADS=1.\n",
      "  warnings.warn(\n",
      "C:\\Users\\david\\anaconda3\\envs\\gpu_env2\\lib\\site-packages\\sklearn\\cluster\\_kmeans.py:1382: UserWarning: KMeans is known to have a memory leak on Windows with MKL, when there are less chunks than available threads. You can avoid it by setting the environment variable OMP_NUM_THREADS=1.\n",
      "  warnings.warn(\n"
     ]
    },
    {
     "ename": "ValueError",
     "evalue": "n_samples=3 should be >= n_clusters=4.",
     "output_type": "error",
     "traceback": [
      "\u001b[1;31m---------------------------------------------------------------------------\u001b[0m",
      "\u001b[1;31mValueError\u001b[0m                                Traceback (most recent call last)",
      "Cell \u001b[1;32mIn[15], line 5\u001b[0m\n\u001b[0;32m      3\u001b[0m \u001b[38;5;28;01mfor\u001b[39;00m i \u001b[38;5;129;01min\u001b[39;00m \u001b[38;5;28mrange\u001b[39m(\u001b[38;5;241m1\u001b[39m, \u001b[38;5;241m11\u001b[39m):\n\u001b[0;32m      4\u001b[0m     kmeans \u001b[38;5;241m=\u001b[39m KMeans(n_clusters\u001b[38;5;241m=\u001b[39mi, init\u001b[38;5;241m=\u001b[39m\u001b[38;5;124m'\u001b[39m\u001b[38;5;124mk-means++\u001b[39m\u001b[38;5;124m'\u001b[39m, max_iter\u001b[38;5;241m=\u001b[39m\u001b[38;5;241m300\u001b[39m, n_init\u001b[38;5;241m=\u001b[39m\u001b[38;5;241m10\u001b[39m, random_state\u001b[38;5;241m=\u001b[39m\u001b[38;5;241m0\u001b[39m)\n\u001b[1;32m----> 5\u001b[0m     \u001b[43mkmeans\u001b[49m\u001b[38;5;241;43m.\u001b[39;49m\u001b[43mfit\u001b[49m\u001b[43m(\u001b[49m\u001b[43mdata\u001b[49m\u001b[43m)\u001b[49m\n\u001b[0;32m      6\u001b[0m     wcss\u001b[38;5;241m.\u001b[39mappend(kmeans\u001b[38;5;241m.\u001b[39minertia_)\n",
      "File \u001b[1;32m~\\anaconda3\\envs\\gpu_env2\\lib\\site-packages\\sklearn\\cluster\\_kmeans.py:1426\u001b[0m, in \u001b[0;36mKMeans.fit\u001b[1;34m(self, X, y, sample_weight)\u001b[0m\n\u001b[0;32m   1415\u001b[0m \u001b[38;5;28mself\u001b[39m\u001b[38;5;241m.\u001b[39m_validate_params()\n\u001b[0;32m   1417\u001b[0m X \u001b[38;5;241m=\u001b[39m \u001b[38;5;28mself\u001b[39m\u001b[38;5;241m.\u001b[39m_validate_data(\n\u001b[0;32m   1418\u001b[0m     X,\n\u001b[0;32m   1419\u001b[0m     accept_sparse\u001b[38;5;241m=\u001b[39m\u001b[38;5;124m\"\u001b[39m\u001b[38;5;124mcsr\u001b[39m\u001b[38;5;124m\"\u001b[39m,\n\u001b[1;32m   (...)\u001b[0m\n\u001b[0;32m   1423\u001b[0m     accept_large_sparse\u001b[38;5;241m=\u001b[39m\u001b[38;5;28;01mFalse\u001b[39;00m,\n\u001b[0;32m   1424\u001b[0m )\n\u001b[1;32m-> 1426\u001b[0m \u001b[38;5;28;43mself\u001b[39;49m\u001b[38;5;241;43m.\u001b[39;49m\u001b[43m_check_params_vs_input\u001b[49m\u001b[43m(\u001b[49m\u001b[43mX\u001b[49m\u001b[43m)\u001b[49m\n\u001b[0;32m   1428\u001b[0m random_state \u001b[38;5;241m=\u001b[39m check_random_state(\u001b[38;5;28mself\u001b[39m\u001b[38;5;241m.\u001b[39mrandom_state)\n\u001b[0;32m   1429\u001b[0m sample_weight \u001b[38;5;241m=\u001b[39m _check_sample_weight(sample_weight, X, dtype\u001b[38;5;241m=\u001b[39mX\u001b[38;5;241m.\u001b[39mdtype)\n",
      "File \u001b[1;32m~\\anaconda3\\envs\\gpu_env2\\lib\\site-packages\\sklearn\\cluster\\_kmeans.py:1362\u001b[0m, in \u001b[0;36mKMeans._check_params_vs_input\u001b[1;34m(self, X)\u001b[0m\n\u001b[0;32m   1361\u001b[0m \u001b[38;5;28;01mdef\u001b[39;00m \u001b[38;5;21m_check_params_vs_input\u001b[39m(\u001b[38;5;28mself\u001b[39m, X):\n\u001b[1;32m-> 1362\u001b[0m     \u001b[38;5;28;43msuper\u001b[39;49m\u001b[43m(\u001b[49m\u001b[43m)\u001b[49m\u001b[38;5;241;43m.\u001b[39;49m\u001b[43m_check_params_vs_input\u001b[49m\u001b[43m(\u001b[49m\u001b[43mX\u001b[49m\u001b[43m,\u001b[49m\u001b[43m \u001b[49m\u001b[43mdefault_n_init\u001b[49m\u001b[38;5;241;43m=\u001b[39;49m\u001b[38;5;241;43m10\u001b[39;49m\u001b[43m)\u001b[49m\n\u001b[0;32m   1364\u001b[0m     \u001b[38;5;28mself\u001b[39m\u001b[38;5;241m.\u001b[39m_algorithm \u001b[38;5;241m=\u001b[39m \u001b[38;5;28mself\u001b[39m\u001b[38;5;241m.\u001b[39malgorithm\n\u001b[0;32m   1365\u001b[0m     \u001b[38;5;28;01mif\u001b[39;00m \u001b[38;5;28mself\u001b[39m\u001b[38;5;241m.\u001b[39m_algorithm \u001b[38;5;129;01min\u001b[39;00m (\u001b[38;5;124m\"\u001b[39m\u001b[38;5;124mauto\u001b[39m\u001b[38;5;124m\"\u001b[39m, \u001b[38;5;124m\"\u001b[39m\u001b[38;5;124mfull\u001b[39m\u001b[38;5;124m\"\u001b[39m):\n",
      "File \u001b[1;32m~\\anaconda3\\envs\\gpu_env2\\lib\\site-packages\\sklearn\\cluster\\_kmeans.py:859\u001b[0m, in \u001b[0;36m_BaseKMeans._check_params_vs_input\u001b[1;34m(self, X, default_n_init)\u001b[0m\n\u001b[0;32m    856\u001b[0m \u001b[38;5;28;01mdef\u001b[39;00m \u001b[38;5;21m_check_params_vs_input\u001b[39m(\u001b[38;5;28mself\u001b[39m, X, default_n_init\u001b[38;5;241m=\u001b[39m\u001b[38;5;28;01mNone\u001b[39;00m):\n\u001b[0;32m    857\u001b[0m     \u001b[38;5;66;03m# n_clusters\u001b[39;00m\n\u001b[0;32m    858\u001b[0m     \u001b[38;5;28;01mif\u001b[39;00m X\u001b[38;5;241m.\u001b[39mshape[\u001b[38;5;241m0\u001b[39m] \u001b[38;5;241m<\u001b[39m \u001b[38;5;28mself\u001b[39m\u001b[38;5;241m.\u001b[39mn_clusters:\n\u001b[1;32m--> 859\u001b[0m         \u001b[38;5;28;01mraise\u001b[39;00m \u001b[38;5;167;01mValueError\u001b[39;00m(\n\u001b[0;32m    860\u001b[0m             \u001b[38;5;124mf\u001b[39m\u001b[38;5;124m\"\u001b[39m\u001b[38;5;124mn_samples=\u001b[39m\u001b[38;5;132;01m{\u001b[39;00mX\u001b[38;5;241m.\u001b[39mshape[\u001b[38;5;241m0\u001b[39m]\u001b[38;5;132;01m}\u001b[39;00m\u001b[38;5;124m should be >= n_clusters=\u001b[39m\u001b[38;5;132;01m{\u001b[39;00m\u001b[38;5;28mself\u001b[39m\u001b[38;5;241m.\u001b[39mn_clusters\u001b[38;5;132;01m}\u001b[39;00m\u001b[38;5;124m.\u001b[39m\u001b[38;5;124m\"\u001b[39m\n\u001b[0;32m    861\u001b[0m         )\n\u001b[0;32m    863\u001b[0m     \u001b[38;5;66;03m# tol\u001b[39;00m\n\u001b[0;32m    864\u001b[0m     \u001b[38;5;28mself\u001b[39m\u001b[38;5;241m.\u001b[39m_tol \u001b[38;5;241m=\u001b[39m _tolerance(X, \u001b[38;5;28mself\u001b[39m\u001b[38;5;241m.\u001b[39mtol)\n",
      "\u001b[1;31mValueError\u001b[0m: n_samples=3 should be >= n_clusters=4."
     ]
    }
   ],
   "source": [
    "# Run k-means with a range of cluster numbers\n",
    "wcss = []\n",
    "for i in range(1, 11):\n",
    "    kmeans = KMeans(n_clusters=i, init='k-means++', max_iter=300, n_init=10, random_state=0)\n",
    "    kmeans.fit(data)\n",
    "    wcss.append(kmeans.inertia_)\n"
   ]
  },
  {
   "cell_type": "code",
   "execution_count": null,
   "id": "611027d8",
   "metadata": {},
   "outputs": [],
   "source": [
    "# Plot the within-cluster sum of squares as a function of the number of clusters\n",
    "plt.plot(range(1, 11), wcss)\n",
    "plt.title('Elbow Method')\n",
    "plt.xlabel('Number of clusters')\n",
    "plt.ylabel('Within-cluster sum of squares')\n",
    "plt.show()\n"
   ]
  },
  {
   "cell_type": "code",
   "execution_count": null,
   "id": "16579172",
   "metadata": {},
   "outputs": [],
   "source": [
    "# Compute cluster that represents matches\n",
    "match_cluster = 0 if centroids[0] > centroids[1] else 1\n",
    "\n",
    "colors = ['g' if labels[i] == match_cluster else 'r' for i in range(len(y))]\n",
    "\n",
    "# Create the plot with the colored data points\n",
    "plt.scatter(range(len(y)), y, c=colors)\n",
    "\n",
    "# Set the x and y axis labels\n",
    "plt.xlabel('Video Frames')\n",
    "plt.ylabel('Match Confidence')\n",
    "plt.title(query)\n",
    "\n",
    "# Show the plot\n",
    "plt.show()\n"
   ]
  },
  {
   "cell_type": "code",
   "execution_count": null,
   "id": "16fc3031",
   "metadata": {},
   "outputs": [],
   "source": [
    "dbscan = DBSCAN(eps=2, min_samples=2)\n",
    "labels = dbscan.fit_predict(X)"
   ]
  },
  {
   "cell_type": "code",
   "execution_count": null,
   "id": "57321953",
   "metadata": {},
   "outputs": [],
   "source": [
    "print(len(labels), labels, labels.shape)"
   ]
  },
  {
   "cell_type": "code",
   "execution_count": 16,
   "id": "80843ff2",
   "metadata": {},
   "outputs": [
    {
     "data": {
      "image/png": "[encoded data removed]",
      "text/plain": [
       "<Figure size 640x480 with 1 Axes>"
      ]
     },
     "metadata": {},
     "output_type": "display_data"
    }
   ],
   "source": [
    "dbscan = DBSCAN(eps=2, min_samples=2)\n",
    "labels = dbscan.fit_predict(X)\n",
    "\n",
    "# Compute cluster that represents matches\n",
    "# match_cluster = 0 if centroids[0] > centroids[1] else 1\n",
    "unique_labels = list(set(labels))\n",
    "label_colors = {label: color for label, color in zip(unique_labels, plt.cm.coolwarm(np.linspace(0, 1, len(unique_labels))))}\n",
    "colors = [label_colors[label] for label in labels]\n",
    "\n",
    "# Create the plot with the colored data points\n",
    "plt.scatter(range(len(y)), y, c=colors)\n",
    "\n",
    "# Set the x and y axis labels\n",
    "plt.xlabel('Video Frames')\n",
    "plt.ylabel('Match Confidence')\n",
    "plt.title(query)\n",
    "\n",
    "# Show the plot\n",
    "plt.show()\n"
   ]
  },
  {
   "cell_type": "code",
   "execution_count": 22,
   "id": "f053c00b",
   "metadata": {},
   "outputs": [
    {
     "name": "stdout",
     "output_type": "stream",
     "text": [
      "[(1, 10), (14, 17)]\n"
     ]
    }
   ],
   "source": [
    "def merge_contiguous_tuples(arr):\n",
    "    merged_arr = []\n",
    "    for tup in arr:\n",
    "        if not merged_arr or tup[0] > merged_arr[-1][1] + 1:\n",
    "            merged_arr.append(tup)\n",
    "        else:\n",
    "            merged_arr[-1] = (merged_arr[-1][0], max(merged_arr[-1][1], tup[1]))\n",
    "    return merged_arr\n",
    "print(merge_contiguous_tuples([(1, 2), (3, 4), (5, 7), (8, 10), (14, 14),(15,17)]))"
   ]
  },
  {
   "cell_type": "code",
   "execution_count": 30,
   "id": "51065d8e",
   "metadata": {},
   "outputs": [
    {
     "name": "stdout",
     "output_type": "stream",
     "text": [
      "[0 1 0]\n",
      "31.546875:  [(0, 0), (2, 2)]\n",
      "[0 1 0]\n",
      "21.3125:  [(1, 1)]\n",
      "[(31.546875, [(0, 0), (2, 2)]), (21.3125, [(1, 1)])]\n"
     ]
    }
   ],
   "source": [
    "def cluster_similar_frames(similarities, method='dbscan'):\n",
    "    if method == 'dbscan':\n",
    "        # Run DBSCAN\n",
    "        dbscan = DBSCAN(eps=2, min_samples=2)\n",
    "        labels = dbscan.fit_predict(similarities)\n",
    "        # We want the labels are 0 to #clusters-1, but dbscan assigns -1 for \"noise points\"\n",
    "        # We'll treat noise points as additional clusters\n",
    "        new_cluster_label = len(set(labels)) - 1\n",
    "        for i in range(len(labels)):\n",
    "            if labels[i] == -1:\n",
    "                labels[i] = new_cluster_label\n",
    "                new_cluster_label += 1\n",
    "\n",
    "        # For now on, we want similarities to be standard np array\n",
    "        similarities = similarities.reshape((-1,))\n",
    "\n",
    "        accuracy_classes = []\n",
    "        for label in range(len(set(labels))):\n",
    "            frame_indices_in_acc_class = [i for i in range(len(similarities)) if labels[i] == label]\n",
    "            print(labels)\n",
    "            avg_acc_in_class = np.take(similarities, frame_indices_in_acc_class).mean()\n",
    "            # Merge\n",
    "            intervals = [(n,n) for n in frame_indices_in_acc_class]\n",
    "            intervals = merge_contiguous_tuples(intervals)\n",
    "            \n",
    "            print(f'{avg_acc_in_class}:  {str(intervals)}')\n",
    "            accuracy_classes.append((avg_acc_in_class, intervals))\n",
    "        return accuracy_classes\n",
    "accuracy_classes = cluster_similar_frames(X)\n",
    "print(accuracy_classes)"
   ]
  },
  {
   "cell_type": "code",
   "execution_count": 31,
   "id": "eb00a5c5",
   "metadata": {},
   "outputs": [
    {
     "data": {
      "image/png": "[encoded data removed]",
      "text/plain": [
       "<Figure size 640x480 with 1 Axes>"
      ]
     },
     "metadata": {},
     "output_type": "display_data"
    }
   ],
   "source": [
    "\n",
    "# Set up the figure\n",
    "fig, ax = plt.subplots()\n",
    "\n",
    "# Plot each array of ints as points in a different color\n",
    "for i, (x, y) in enumerate(accuracy_classes):\n",
    "    ax.scatter(y, x * np.ones_like(y), c=f'C{i}')\n",
    "\n",
    "# Set the x and y axis labels\n",
    "plt.xlabel('Video Frames')\n",
    "plt.ylabel('Match Confidence')\n",
    "plt.title(query)\n",
    "\n",
    "# Show the plot\n",
    "plt.show()"
   ]
  },
  {
   "cell_type": "code",
   "execution_count": 32,
   "id": "c217a06a",
   "metadata": {},
   "outputs": [
    {
     "name": "stdout",
     "output_type": "stream",
     "text": [
      "[(31.546875, [(0, 0), (2, 2)]), (21.3125, [(1, 1)])]\n"
     ]
    }
   ],
   "source": [
    "def merge_contiguous_intervals(accuracy_classes):\n",
    "    new_acc_classes = []\n",
    "    for (acc, intervals) in accuracy_classes:\n",
    "        merged_intervals = merge_contiguous_tuples(intervals)\n",
    "        new_acc_classes.append((acc, merged_intervals))\n",
    "    return new_acc_classes\n",
    "print(merge_contiguous_intervals(accuracy_classes))"
   ]
  },
  {
   "cell_type": "code",
   "execution_count": 33,
   "id": "58612b5d",
   "metadata": {},
   "outputs": [
    {
     "data": {
      "image/png": "[encoded data removed]",
      "text/plain": [
       "<Figure size 640x480 with 1 Axes>"
      ]
     },
     "metadata": {},
     "output_type": "display_data"
    }
   ],
   "source": [
    "# Set up the figure\n",
    "fig, ax = plt.subplots()\n",
    "\n",
    "# Plot each array of ints as lines in a different color\n",
    "for i, (x, y) in enumerate(accuracy_classes):\n",
    "    for segment in y:\n",
    "        start, end = segment[0], segment[0]+1\n",
    "        ax.plot([start, end], [x, x], c=f'C{i}')\n",
    "\n",
    "# Set the x and y axis labels\n",
    "plt.xlabel('Video Frames')\n",
    "plt.ylabel('Match Confidence')\n",
    "plt.title(query)\n",
    "\n",
    "# Show the plot\n",
    "plt.show()\n"
   ]
  },
  {
   "cell_type": "code",
   "execution_count": null,
   "id": "7852e219",
   "metadata": {},
   "outputs": [],
   "source": [
    "np.array([(1,1),(2,2)]).mean()"
   ]
  },
  {
   "cell_type": "code",
   "execution_count": null,
   "id": "d917ebb0",
   "metadata": {},
   "outputs": [],
   "source": [
    "a = np.array([1,2,3])\n",
    "a = np.array([201,194,189,189,189,184,174,170,165,159,151,150,141,148,158,162,159,159,149,135,117,145,200,209,207,209,211,211,209,210,212,213,208,210,209,187,177,165,171,193,209,212,208,205,202,184,149,151,174,182,188,205,208,209,212,213,207,211,213,210,215,213,213,203,205,192,175,149,146,152,157,174,192,193,184,177,160,158,162,159,152,169,196,205,209,210,200,188,199,205,212,214,205,206,208,209,210,212,215,214])\n",
    "print(a.shape)\n",
    "print(np.dot(a,a) / (np.linalg.norm(a) * np.linalg.norm(a)))"
   ]
  },
  {
   "cell_type": "code",
   "execution_count": null,
   "id": "12c4ce47",
   "metadata": {},
   "outputs": [],
   "source": [
    "a = [6,5,4,3,2,1]\n",
    "print(np.take(a,[2]))\n",
    "print(np.array([]).mean())"
   ]
  },
  {
   "cell_type": "code",
   "execution_count": null,
   "id": "a05f0ef0",
   "metadata": {},
   "outputs": [],
   "source": []
  }
 ],
 "metadata": {
  "kernelspec": {
   "display_name": "gpu_env2",
   "language": "python",
   "name": "gpu_env2"
  },
  "language_info": {
   "codemirror_mode": {
    "name": "ipython",
    "version": 3
   },
   "file_extension": ".py",
   "mimetype": "text/x-python",
   "name": "python",
   "nbconvert_exporter": "python",
   "pygments_lexer": "ipython3",
   "version": "3.10.10"
  }
 },
 "nbformat": 4,
 "nbformat_minor": 5
}
